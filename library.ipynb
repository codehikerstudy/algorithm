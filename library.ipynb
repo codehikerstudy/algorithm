{
 "cells": [
  {
   "cell_type": "markdown",
   "source": [
    "# 주요 라이브러리의 문법과 유의점"
   ],
   "metadata": {
    "collapsed": false
   }
  },
  {
   "cell_type": "markdown",
   "source": [
    "* 파이썬의 일부 라이브러리는 잘못 사용하면 수행 시간이 비효율적으로 증가함\n",
    "* 코딩 테스트를 준비하며 반드시 알아야 하는 라이브러리는 6가지 정도\n",
    "\n",
    "\n",
    "| **표준 라이브러리**    | **설명**                                                                               |\n",
    "|-----------------|--------------------------------------------------------------------------------------|\n",
    "| **내장함수**        | print(), input()과 같은 기본 입출력 기능부터 sorted()와 같은 정렬 기능을 포함하고 있는 기본 내장 라이브러리             |\n",
    "| **itertools**   | 반복되는 형태의 데이터를 처리하는 기능을 제공하는 라이브러리. 순열과 조합 라이브러리를 제공함.                                |\n",
    "| **heqpq**       | 힙(Heap) 기능을 제공하는 라이브러리. 우선순위 큐 기능을 구현하기 위해 사용함.                                      |\n",
    "| **bisect**      | 이진 탐색(Binary Search) 기능을 제공하는 라이브러리                                                  |\n",
    "| **collections** | 덱(deque), 카운터(Counter) 등의 유용한 자료구조를 포함하고 있는 라이브러리                                    |\n",
    "| **math**        | 필수적인 수학적 기능을 제공하는 라이브러리. 팩토리얼, 제곱근, 최대공약수(GCD), 삼각함수 관련 함수부터 파이(pi)와 같은 상수를 포함하고 있음. |\n"
   ],
   "metadata": {
    "collapsed": false
   }
  },
  {
   "cell_type": "markdown",
   "source": [
    "## 1. 내장 함수"
   ],
   "metadata": {
    "collapsed": false
   }
  },
  {
   "cell_type": "markdown",
   "source": [
    "### sum()\n",
    "\n",
    "* 리스트와 같은 반복 가능한 객체(iterable)가 입력으로 주어졌을 때, 모든 원소의 합을 반환한다."
   ],
   "metadata": {
    "collapsed": false
   }
  },
  {
   "cell_type": "code",
   "execution_count": 1,
   "outputs": [
    {
     "name": "stdout",
     "output_type": "stream",
     "text": [
      "6\n"
     ]
    }
   ],
   "source": [
    "result = sum([1 ,2, 3])\n",
    "print(result)"
   ],
   "metadata": {
    "collapsed": false
   }
  },
  {
   "cell_type": "markdown",
   "source": [
    "### min()\n",
    "\n",
    "* min() 함수에 파라미터가 2개 이상 들어왔을 때 가장 작은 값을 반환한다.\n",
    "\n",
    "### max()\n",
    "\n",
    "* max() 함수는 파라미터가 2개 이상 들어왔을 때 가장 큰 값을 반환한다.\n",
    "\n",
    "### eval()\n",
    "\n",
    "* 수학 수식이 **문자열 형식**으로 들어오면 해당 수식을 계산한 결과를 반환한다."
   ],
   "metadata": {
    "collapsed": false
   }
  },
  {
   "cell_type": "code",
   "execution_count": 5,
   "outputs": [
    {
     "name": "stdout",
     "output_type": "stream",
     "text": [
      "0\n",
      "7\n",
      "56\n"
     ]
    }
   ],
   "source": [
    "a = min(2, 6, 4, 0, 7)\n",
    "print(a)\n",
    "\n",
    "a = max(2, 6, 4, 0, 7)\n",
    "print(a)\n",
    "\n",
    "a = eval(\"(3 + 5) * 7\")\n",
    "print(a)"
   ],
   "metadata": {
    "collapsed": false
   }
  },
  {
   "cell_type": "markdown",
   "source": [
    "### sorted()\n",
    "\n",
    "* iterable 객체가 들어왔을 때 정렬된 결과를 반환\n",
    "* key 속성으로 정렬 기준을 명시할 수 있음\n",
    "* reverse 속성으로 정렬된 결과 리스트를 뒤집을지 여부를 설정할 수 있음"
   ],
   "metadata": {
    "collapsed": false
   }
  },
  {
   "cell_type": "code",
   "execution_count": 8,
   "outputs": [
    {
     "name": "stdout",
     "output_type": "stream",
     "text": [
      "[1, 4, 5, 8, 9]\n",
      "[9, 8, 5, 4, 1]\n"
     ]
    }
   ],
   "source": [
    "# 오름차순으로 정렬\n",
    "result = sorted([9, 1, 8, 5, 4])\n",
    "print(result)\n",
    "\n",
    "# 내림차순으로 정렬\n",
    "result = sorted([9, 1, 8, 5, 4], reverse = True)\n",
    "print(result)"
   ],
   "metadata": {
    "collapsed": false
   }
  },
  {
   "cell_type": "markdown",
   "source": [
    "* 파이썬에서는 리스트의 원소로 리스트나 튜플이 존재하면 특정한 기준에 따라서 정렬을 수행할 수 있다.\n",
    "* 이 때, 정렬 기준을 key 속성을 사용해서 명시할 수 있다.ㄹ"
   ],
   "metadata": {
    "collapsed": false
   }
  },
  {
   "cell_type": "code",
   "execution_count": 9,
   "outputs": [
    {
     "name": "stdout",
     "output_type": "stream",
     "text": [
      "[('이순신', 75), ('아무개', 50), ('홍길동', 35)]\n"
     ]
    }
   ],
   "source": [
    "# 리스트의 원소를 튜플의 두 번째 원소를 기준으로 내림차순으로 정렬\n",
    "result = sorted([('홍길동', 35), ('이순신', 75), ('아무개', 50)], key = lambda x: x[1], reverse = True)\n",
    "print(result)"
   ],
   "metadata": {
    "collapsed": false
   }
  },
  {
   "cell_type": "markdown",
   "source": [
    "* 리스트와 같은 iterable 객체는 기본으로 sort() 함수를 내장하고 있음\n",
    "* sorted() 함수를 사용하지 않고도 sort() 함수를 사용해서 정렬할 수 있음"
   ],
   "metadata": {
    "collapsed": false
   }
  },
  {
   "cell_type": "code",
   "execution_count": 13,
   "outputs": [
    {
     "name": "stdout",
     "output_type": "stream",
     "text": [
      "[1, 4, 5, 8, 9]\n",
      "[9, 8, 5, 4, 1]\n"
     ]
    }
   ],
   "source": [
    "# sort()를 사용해서 오름차순으로 정렬\n",
    "data = [9, 1, 8, 5, 4]\n",
    "data.sort()\n",
    "print(data)\n",
    "\n",
    "# 내림차순으로 정렬\n",
    "data.sort(reverse=True)\n",
    "print(data)"
   ],
   "metadata": {
    "collapsed": false
   }
  },
  {
   "cell_type": "markdown",
   "source": [
    "### itertools\n",
    "\n"
   ],
   "metadata": {
    "collapsed": false
   }
  },
  {
   "cell_type": "code",
   "execution_count": null,
   "outputs": [],
   "source": [],
   "metadata": {
    "collapsed": false
   }
  }
 ],
 "metadata": {
  "kernelspec": {
   "display_name": "Python 3",
   "language": "python",
   "name": "python3"
  },
  "language_info": {
   "codemirror_mode": {
    "name": "ipython",
    "version": 2
   },
   "file_extension": ".py",
   "mimetype": "text/x-python",
   "name": "python",
   "nbconvert_exporter": "python",
   "pygments_lexer": "ipython2",
   "version": "2.7.6"
  }
 },
 "nbformat": 4,
 "nbformat_minor": 0
}
