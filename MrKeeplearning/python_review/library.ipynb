{
 "cells": [
  {
   "cell_type": "markdown",
   "source": [
    "# 주요 라이브러리의 문법과 유의점"
   ],
   "metadata": {
    "collapsed": false
   }
  },
  {
   "cell_type": "markdown",
   "source": [
    "* 파이썬의 일부 라이브러리는 잘못 사용하면 수행 시간이 비효율적으로 증가함\n",
    "* 코딩 테스트를 준비하며 반드시 알아야 하는 라이브러리는 6가지 정도\n",
    "\n",
    "\n",
    "| **표준 라이브러리**    | **설명**                                                                               |\n",
    "|-----------------|--------------------------------------------------------------------------------------|\n",
    "| **내장함수**        | print(), input()과 같은 기본 입출력 기능부터 sorted()와 같은 정렬 기능을 포함하고 있는 기본 내장 라이브러리             |\n",
    "| **itertools**   | 반복되는 형태의 데이터를 처리하는 기능을 제공하는 라이브러리. 순열과 조합 라이브러리를 제공함.                                |\n",
    "| **heqpq**       | 힙(Heap) 기능을 제공하는 라이브러리. 우선순위 큐 기능을 구현하기 위해 사용함.                                      |\n",
    "| **bisect**      | 이진 탐색(Binary Search) 기능을 제공하는 라이브러리                                                  |\n",
    "| **collections** | 덱(deque), 카운터(Counter) 등의 유용한 자료구조를 포함하고 있는 라이브러리                                    |\n",
    "| **math**        | 필수적인 수학적 기능을 제공하는 라이브러리. 팩토리얼, 제곱근, 최대공약수(GCD), 삼각함수 관련 함수부터 파이(pi)와 같은 상수를 포함하고 있음. |\n"
   ],
   "metadata": {
    "collapsed": false
   }
  },
  {
   "cell_type": "markdown",
   "source": [
    "## 1. 내장 함수"
   ],
   "metadata": {
    "collapsed": false
   }
  },
  {
   "cell_type": "markdown",
   "source": [
    "### sum()\n",
    "\n",
    "* 리스트와 같은 반복 가능한 객체(iterable)가 입력으로 주어졌을 때, 모든 원소의 합을 반환한다."
   ],
   "metadata": {
    "collapsed": false
   }
  },
  {
   "cell_type": "code",
   "execution_count": 16,
   "outputs": [
    {
     "name": "stdout",
     "output_type": "stream",
     "text": [
      "6\n"
     ]
    }
   ],
   "source": [
    "result = sum([1 ,2, 3])\n",
    "print(result)"
   ],
   "metadata": {
    "collapsed": false
   }
  },
  {
   "cell_type": "markdown",
   "source": [
    "### min()\n",
    "\n",
    "* min() 함수에 파라미터가 2개 이상 들어왔을 때 가장 작은 값을 반환한다.\n",
    "\n",
    "### max()\n",
    "\n",
    "* max() 함수는 파라미터가 2개 이상 들어왔을 때 가장 큰 값을 반환한다.\n",
    "\n",
    "### eval()\n",
    "\n",
    "* 수학 수식이 **문자열 형식**으로 들어오면 해당 수식을 계산한 결과를 반환한다."
   ],
   "metadata": {
    "collapsed": false
   }
  },
  {
   "cell_type": "code",
   "execution_count": 17,
   "outputs": [
    {
     "name": "stdout",
     "output_type": "stream",
     "text": [
      "0\n",
      "7\n",
      "56\n"
     ]
    }
   ],
   "source": [
    "a = min(2, 6, 4, 0, 7)\n",
    "print(a)\n",
    "\n",
    "a = max(2, 6, 4, 0, 7)\n",
    "print(a)\n",
    "\n",
    "a = eval(\"(3 + 5) * 7\")\n",
    "print(a)"
   ],
   "metadata": {
    "collapsed": false
   }
  },
  {
   "cell_type": "markdown",
   "source": [
    "### sorted()\n",
    "\n",
    "* iterable 객체가 들어왔을 때 정렬된 결과를 반환\n",
    "* key 속성으로 정렬 기준을 명시할 수 있음\n",
    "* reverse 속성으로 정렬된 결과 리스트를 뒤집을지 여부를 설정할 수 있음"
   ],
   "metadata": {
    "collapsed": false
   }
  },
  {
   "cell_type": "code",
   "execution_count": 18,
   "outputs": [
    {
     "name": "stdout",
     "output_type": "stream",
     "text": [
      "[1, 4, 5, 8, 9]\n",
      "[9, 8, 5, 4, 1]\n"
     ]
    }
   ],
   "source": [
    "# 오름차순으로 정렬\n",
    "result = sorted([9, 1, 8, 5, 4])\n",
    "print(result)\n",
    "\n",
    "# 내림차순으로 정렬\n",
    "result = sorted([9, 1, 8, 5, 4], reverse = True)\n",
    "print(result)"
   ],
   "metadata": {
    "collapsed": false
   }
  },
  {
   "cell_type": "markdown",
   "source": [
    "* 파이썬에서는 리스트의 원소로 리스트나 튜플이 존재하면 특정한 기준에 따라서 정렬을 수행할 수 있다.\n",
    "* 이 때, 정렬 기준을 key 속성을 사용해서 명시할 수 있다."
   ],
   "metadata": {
    "collapsed": false
   }
  },
  {
   "cell_type": "code",
   "execution_count": 19,
   "outputs": [
    {
     "name": "stdout",
     "output_type": "stream",
     "text": [
      "[('이순신', 75), ('아무개', 50), ('홍길동', 35)]\n"
     ]
    }
   ],
   "source": [
    "# 리스트의 원소를 튜플의 두 번째 원소를 기준으로 내림차순으로 정렬\n",
    "result = sorted([('홍길동', 35), ('이순신', 75), ('아무개', 50)], key = lambda x: x[1], reverse = True)\n",
    "print(result)"
   ],
   "metadata": {
    "collapsed": false
   }
  },
  {
   "cell_type": "markdown",
   "source": [
    "* 리스트와 같은 iterable 객체는 기본으로 sort() 함수를 내장하고 있음\n",
    "* sorted() 함수를 사용하지 않고도 sort() 함수를 사용해서 정렬할 수 있음"
   ],
   "metadata": {
    "collapsed": false
   }
  },
  {
   "cell_type": "code",
   "execution_count": 20,
   "outputs": [
    {
     "name": "stdout",
     "output_type": "stream",
     "text": [
      "[1, 4, 5, 8, 9]\n",
      "[9, 8, 5, 4, 1]\n"
     ]
    }
   ],
   "source": [
    "# sort()를 사용해서 오름차순으로 정렬\n",
    "data = [9, 1, 8, 5, 4]\n",
    "data.sort()\n",
    "print(data)\n",
    "\n",
    "# 내림차순으로 정렬\n",
    "data.sort(reverse=True)\n",
    "print(data)"
   ],
   "metadata": {
    "collapsed": false
   }
  },
  {
   "cell_type": "markdown",
   "source": [
    "## 2. itertools\n",
    "\n",
    "* 반복되는 데이터를 처리하는 기능을 포함하고 있는 라이브러리\n",
    "* 코딩 테스트에서 유용한 클래스: permutations(순열), combinations(조합)"
   ],
   "metadata": {
    "collapsed": false
   }
  },
  {
   "cell_type": "markdown",
   "source": [
    "### itertools - permutations(순열)\n",
    "\n",
    "* 리스트와 같은 iterable 객체에서 r개의 데이터를 뽑아 일렬로 나열하는 모든 경우(순열)를 계산\n",
    "* permutations는 클래스이기 때문에 객체 초기화 이후에는 리스트 자료형으로 변환하여 사용"
   ],
   "metadata": {
    "collapsed": false
   }
  },
  {
   "cell_type": "code",
   "execution_count": 21,
   "outputs": [
    {
     "name": "stdout",
     "output_type": "stream",
     "text": [
      "[('A', 'B', 'C'), ('A', 'C', 'B'), ('B', 'A', 'C'), ('B', 'C', 'A'), ('C', 'A', 'B'), ('C', 'B', 'A')]\n"
     ]
    }
   ],
   "source": [
    "# 리스트에서 3개를 뽑아 나열하는 모든 경우를 출력\n",
    "\n",
    "from itertools import permutations\n",
    "\n",
    "data = ['A', 'B', 'C']\n",
    "result = list(permutations(data, 3))\n",
    "print(result)"
   ],
   "metadata": {
    "collapsed": false
   }
  },
  {
   "cell_type": "markdown",
   "source": [
    "### itertools - combinations(조합)\n",
    "\n",
    "* iterable 객체에서 r개의 데이터를 뽑아 순서를 고려하지 않고 나열하는 모든 경우를 계산한다.\n",
    "* combinations는 클래스이기 때문에 객체 초기화 이후에는 리스트 자료형으로 변환해서 사용"
   ],
   "metadata": {
    "collapsed": false
   }
  },
  {
   "cell_type": "code",
   "execution_count": 22,
   "outputs": [
    {
     "name": "stdout",
     "output_type": "stream",
     "text": [
      "[('A', 'B'), ('A', 'C'), ('B', 'C')]\n"
     ]
    }
   ],
   "source": [
    "# 리스트에서 2개를 뽑아 순서에 상관없이 나열하는 모든 경우를 출력\n",
    "\n",
    "from itertools import combinations\n",
    "\n",
    "data = ['A', 'B', 'C']\n",
    "result = list(combinations(data, 2))\n",
    "print(result)"
   ],
   "metadata": {
    "collapsed": false
   }
  },
  {
   "cell_type": "markdown",
   "source": [
    "### itertools - product(중복순열)\n",
    "\n",
    "* iterable 객체에서 r개의 데이터를 뽑아 일렬로 나열하는 모든 경우(순열)를 계산\n",
    "* 중복 허용\n",
    "* product 객체를 초기화할 때는 뽑고자 하는 데이터의 수를 repeat 속성값으로 넣어줌\n",
    "* product는 클래스이기 때문에 초기화 이후에는 리스트 자료형으로 변환하여 사용"
   ],
   "metadata": {
    "collapsed": false
   }
  },
  {
   "cell_type": "code",
   "execution_count": 23,
   "outputs": [
    {
     "name": "stdout",
     "output_type": "stream",
     "text": [
      "[('A', 'A'), ('A', 'B'), ('A', 'C'), ('B', 'A'), ('B', 'B'), ('B', 'C'), ('C', 'A'), ('C', 'B'), ('C', 'C')]\n",
      "[('A', 'B'), ('A', 'C'), ('B', 'A'), ('B', 'C'), ('C', 'A'), ('C', 'B')]\n"
     ]
    }
   ],
   "source": [
    "# 리스트에서 중복을 포함하여 2개를 뽑아 나열하는 모든 경우를 출력\n",
    "from itertools import product\n",
    "\n",
    "data = ['A', 'B', 'C']\n",
    "result = list(product(data, repeat = 2))\n",
    "\n",
    "print(result)\n",
    "\n",
    "# permutations를 사용한 경우와 비교\n",
    "# product와 달리 같은 원소가 2개 뽑히는 경우가 제외된다.\n",
    "result = list(permutations(data, 2))\n",
    "print(result)"
   ],
   "metadata": {
    "collapsed": false
   }
  },
  {
   "cell_type": "markdown",
   "source": [
    "### itertools - combinations_with_replacement(중복조합)\n",
    "\n",
    "* combinations와 유사\n",
    "* iterable 객체에서 r개의 데이터를 뽑아 순서를 고려하지 않고 나열하는 모든 경우를 계산\n",
    "* 원소를 중복해서 뽑음\n",
    "* 클래스이기 때문에 객체 초기화 이후, 리스트 자료형으로 변환하여 사용"
   ],
   "metadata": {
    "collapsed": false
   }
  },
  {
   "cell_type": "code",
   "execution_count": 24,
   "outputs": [
    {
     "name": "stdout",
     "output_type": "stream",
     "text": [
      "[('A', 'A'), ('A', 'B'), ('A', 'C'), ('B', 'B'), ('B', 'C'), ('C', 'C')]\n",
      "[('A', 'B'), ('A', 'C'), ('B', 'C')]\n"
     ]
    }
   ],
   "source": [
    "# 리스트에서 중복을 포함하여 2개를 뽑아 순서에 상관없이 나열하는 모든 경우를 출력\n",
    "from itertools import combinations_with_replacement\n",
    "\n",
    "data = ['A', 'B', 'C']\n",
    "result = list(combinations_with_replacement(data, 2))\n",
    "print(result)\n",
    "\n",
    "# combinations와 비교\n",
    "# 자신을 중복해서 뽑는 경우의 수가 제외되었다.\n",
    "result = list(combinations(data, 2))\n",
    "print(result)"
   ],
   "metadata": {
    "collapsed": false
   }
  },
  {
   "cell_type": "markdown",
   "source": [],
   "metadata": {
    "collapsed": false
   }
  }
 ],
 "metadata": {
  "kernelspec": {
   "display_name": "Python 3",
   "language": "python",
   "name": "python3"
  },
  "language_info": {
   "codemirror_mode": {
    "name": "ipython",
    "version": 2
   },
   "file_extension": ".py",
   "mimetype": "text/x-python",
   "name": "python",
   "nbconvert_exporter": "python",
   "pygments_lexer": "ipython2",
   "version": "2.7.6"
  }
 },
 "nbformat": 4,
 "nbformat_minor": 0
}
