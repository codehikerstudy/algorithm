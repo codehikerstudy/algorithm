{
 "cells": [
  {
   "cell_type": "markdown",
   "source": [
    "# 주요 라이브러리의 문법과 유의점"
   ],
   "metadata": {
    "collapsed": false
   }
  },
  {
   "cell_type": "markdown",
   "source": [
    "* 파이썬의 일부 라이브러리는 잘못 사용하면 수행 시간이 비효율적으로 증가함\n",
    "* 코딩 테스트를 준비하며 반드시 알아야 하는 라이브러리는 6가지 정도\n",
    "\n",
    "\n",
    "| **표준 라이브러리**    | **설명**                                                                               |\n",
    "|-----------------|--------------------------------------------------------------------------------------|\n",
    "| **내장함수**        | print(), input()과 같은 기본 입출력 기능부터 sorted()와 같은 정렬 기능을 포함하고 있는 기본 내장 라이브러리             |\n",
    "| **itertools**   | 반복되는 형태의 데이터를 처리하는 기능을 제공하는 라이브러리. 순열과 조합 라이브러리를 제공함.                                |\n",
    "| **heqpq**       | 힙(Heap) 기능을 제공하는 라이브러리. 우선순위 큐 기능을 구현하기 위해 사용함.                                      |\n",
    "| **bisect**      | 이진 탐색(Binary Search) 기능을 제공하는 라이브러리                                                  |\n",
    "| **collections** | 덱(deque), 카운터(Counter) 등의 유용한 자료구조를 포함하고 있는 라이브러리                                    |\n",
    "| **math**        | 필수적인 수학적 기능을 제공하는 라이브러리. 팩토리얼, 제곱근, 최대공약수(GCD), 삼각함수 관련 함수부터 파이(pi)와 같은 상수를 포함하고 있음. |\n"
   ],
   "metadata": {
    "collapsed": false
   }
  },
  {
   "cell_type": "markdown",
   "source": [
    "## 1. 내장 함수"
   ],
   "metadata": {
    "collapsed": false
   }
  },
  {
   "cell_type": "markdown",
   "source": [
    "### sum()\n",
    "\n",
    "* 리스트와 같은 반복 가능한 객체(iterable)가 입력으로 주어졌을 때, 모든 원소의 합을 반환한다."
   ],
   "metadata": {
    "collapsed": false
   }
  },
  {
   "cell_type": "code",
   "execution_count": 1,
   "outputs": [
    {
     "name": "stdout",
     "output_type": "stream",
     "text": [
      "6\n"
     ]
    }
   ],
   "source": [
    "result = sum([1 ,2, 3])\n",
    "print(result)"
   ],
   "metadata": {
    "collapsed": false
   }
  },
  {
   "cell_type": "markdown",
   "source": [
    "### min()\n",
    "\n",
    "* min() 함수에 파라미터가 2개 이상 들어왔을 때 가장 작은 값을 반환한다.\n",
    "\n",
    "### max()\n",
    "\n",
    "* max() 함수는 파라미터가 2개 이상 들어왔을 때 가장 큰 값을 반환한다.\n",
    "\n",
    "### eval()\n",
    "\n",
    "* 수학 수식이 **문자열 형식**으로 들어오면 해당 수식을 계산한 결과를 반환한다."
   ],
   "metadata": {
    "collapsed": false
   }
  },
  {
   "cell_type": "code",
   "execution_count": 2,
   "outputs": [
    {
     "name": "stdout",
     "output_type": "stream",
     "text": [
      "0\n",
      "7\n",
      "56\n"
     ]
    }
   ],
   "source": [
    "a = min(2, 6, 4, 0, 7)\n",
    "print(a)\n",
    "\n",
    "a = max(2, 6, 4, 0, 7)\n",
    "print(a)\n",
    "\n",
    "a = eval(\"(3 + 5) * 7\")\n",
    "print(a)"
   ],
   "metadata": {
    "collapsed": false
   }
  },
  {
   "cell_type": "markdown",
   "source": [
    "### sorted()\n",
    "\n",
    "* iterable 객체가 들어왔을 때 정렬된 결과를 반환\n",
    "* key 속성으로 정렬 기준을 명시할 수 있음\n",
    "* reverse 속성으로 정렬된 결과 리스트를 뒤집을지 여부를 설정할 수 있음"
   ],
   "metadata": {
    "collapsed": false
   }
  },
  {
   "cell_type": "code",
   "execution_count": 3,
   "outputs": [
    {
     "name": "stdout",
     "output_type": "stream",
     "text": [
      "[1, 4, 5, 8, 9]\n",
      "[9, 8, 5, 4, 1]\n"
     ]
    }
   ],
   "source": [
    "# 오름차순으로 정렬\n",
    "result = sorted([9, 1, 8, 5, 4])\n",
    "print(result)\n",
    "\n",
    "# 내림차순으로 정렬\n",
    "result = sorted([9, 1, 8, 5, 4], reverse = True)\n",
    "print(result)"
   ],
   "metadata": {
    "collapsed": false
   }
  },
  {
   "cell_type": "markdown",
   "source": [
    "* 파이썬에서는 리스트의 원소로 리스트나 튜플이 존재하면 특정한 기준에 따라서 정렬을 수행할 수 있다.\n",
    "* 이 때, 정렬 기준을 key 속성을 사용해서 명시할 수 있다."
   ],
   "metadata": {
    "collapsed": false
   }
  },
  {
   "cell_type": "code",
   "execution_count": 4,
   "outputs": [
    {
     "name": "stdout",
     "output_type": "stream",
     "text": [
      "[('이순신', 75), ('아무개', 50), ('홍길동', 35)]\n"
     ]
    }
   ],
   "source": [
    "# 리스트의 원소를 튜플의 두 번째 원소를 기준으로 내림차순으로 정렬\n",
    "result = sorted([('홍길동', 35), ('이순신', 75), ('아무개', 50)], key = lambda x: x[1], reverse = True)\n",
    "print(result)"
   ],
   "metadata": {
    "collapsed": false
   }
  },
  {
   "cell_type": "markdown",
   "source": [
    "* 리스트와 같은 iterable 객체는 기본으로 sort() 함수를 내장하고 있음\n",
    "* sorted() 함수를 사용하지 않고도 sort() 함수를 사용해서 정렬할 수 있음"
   ],
   "metadata": {
    "collapsed": false
   }
  },
  {
   "cell_type": "code",
   "execution_count": 5,
   "outputs": [
    {
     "name": "stdout",
     "output_type": "stream",
     "text": [
      "[1, 4, 5, 8, 9]\n",
      "[9, 8, 5, 4, 1]\n"
     ]
    }
   ],
   "source": [
    "# sort()를 사용해서 오름차순으로 정렬\n",
    "data = [9, 1, 8, 5, 4]\n",
    "data.sort()\n",
    "print(data)\n",
    "\n",
    "# 내림차순으로 정렬\n",
    "data.sort(reverse=True)\n",
    "print(data)"
   ],
   "metadata": {
    "collapsed": false
   }
  },
  {
   "cell_type": "markdown",
   "source": [
    "## 2. itertools\n",
    "\n",
    "* 반복되는 데이터를 처리하는 기능을 포함하고 있는 라이브러리\n",
    "* 코딩 테스트에서 유용한 클래스: permutations(순열), combinations(조합)"
   ],
   "metadata": {
    "collapsed": false
   }
  },
  {
   "cell_type": "markdown",
   "source": [
    "### itertools - permutations(순열)\n",
    "\n",
    "* 리스트와 같은 iterable 객체에서 r개의 데이터를 뽑아 일렬로 나열하는 모든 경우(순열)를 계산\n",
    "* permutations는 클래스이기 때문에 객체 초기화 이후에는 리스트 자료형으로 변환하여 사용"
   ],
   "metadata": {
    "collapsed": false
   }
  },
  {
   "cell_type": "code",
   "execution_count": 6,
   "outputs": [
    {
     "name": "stdout",
     "output_type": "stream",
     "text": [
      "[('A', 'B', 'C'), ('A', 'C', 'B'), ('B', 'A', 'C'), ('B', 'C', 'A'), ('C', 'A', 'B'), ('C', 'B', 'A')]\n"
     ]
    }
   ],
   "source": [
    "# 리스트에서 3개를 뽑아 나열하는 모든 경우를 출력\n",
    "\n",
    "from itertools import permutations\n",
    "\n",
    "data = ['A', 'B', 'C']\n",
    "result = list(permutations(data, 3))\n",
    "print(result)"
   ],
   "metadata": {
    "collapsed": false
   }
  },
  {
   "cell_type": "markdown",
   "source": [
    "### itertools - combinations(조합)\n",
    "\n",
    "* iterable 객체에서 r개의 데이터를 뽑아 순서를 고려하지 않고 나열하는 모든 경우를 계산한다.\n",
    "* combinations는 클래스이기 때문에 객체 초기화 이후에는 리스트 자료형으로 변환해서 사용"
   ],
   "metadata": {
    "collapsed": false
   }
  },
  {
   "cell_type": "code",
   "execution_count": 7,
   "outputs": [
    {
     "name": "stdout",
     "output_type": "stream",
     "text": [
      "[('A', 'B'), ('A', 'C'), ('B', 'C')]\n"
     ]
    }
   ],
   "source": [
    "# 리스트에서 2개를 뽑아 순서에 상관없이 나열하는 모든 경우를 출력\n",
    "\n",
    "from itertools import combinations\n",
    "\n",
    "data = ['A', 'B', 'C']\n",
    "result = list(combinations(data, 2))\n",
    "print(result)"
   ],
   "metadata": {
    "collapsed": false
   }
  },
  {
   "cell_type": "markdown",
   "source": [
    "### itertools - product(중복순열)\n",
    "\n",
    "* iterable 객체에서 r개의 데이터를 뽑아 일렬로 나열하는 모든 경우(순열)를 계산\n",
    "* 중복 허용\n",
    "* product 객체를 초기화할 때는 뽑고자 하는 데이터의 수를 repeat 속성값으로 넣어줌\n",
    "* product는 클래스이기 때문에 초기화 이후에는 리스트 자료형으로 변환하여 사용"
   ],
   "metadata": {
    "collapsed": false
   }
  },
  {
   "cell_type": "code",
   "execution_count": 8,
   "outputs": [
    {
     "name": "stdout",
     "output_type": "stream",
     "text": [
      "[('A', 'A'), ('A', 'B'), ('A', 'C'), ('B', 'A'), ('B', 'B'), ('B', 'C'), ('C', 'A'), ('C', 'B'), ('C', 'C')]\n",
      "[('A', 'B'), ('A', 'C'), ('B', 'A'), ('B', 'C'), ('C', 'A'), ('C', 'B')]\n"
     ]
    }
   ],
   "source": [
    "# 리스트에서 중복을 포함하여 2개를 뽑아 나열하는 모든 경우를 출력\n",
    "from itertools import product\n",
    "\n",
    "data = ['A', 'B', 'C']\n",
    "result = list(product(data, repeat = 2))\n",
    "\n",
    "print(result)\n",
    "\n",
    "# permutations를 사용한 경우와 비교\n",
    "# product와 달리 같은 원소가 2개 뽑히는 경우가 제외된다.\n",
    "result = list(permutations(data, 2))\n",
    "print(result)"
   ],
   "metadata": {
    "collapsed": false
   }
  },
  {
   "cell_type": "markdown",
   "source": [
    "### itertools - combinations_with_replacement(중복조합)\n",
    "\n",
    "* combinations와 유사\n",
    "* iterable 객체에서 r개의 데이터를 뽑아 순서를 고려하지 않고 나열하는 모든 경우를 계산\n",
    "* 원소를 중복해서 뽑음\n",
    "* 클래스이기 때문에 객체 초기화 이후, 리스트 자료형으로 변환하여 사용"
   ],
   "metadata": {
    "collapsed": false
   }
  },
  {
   "cell_type": "code",
   "execution_count": 9,
   "outputs": [
    {
     "name": "stdout",
     "output_type": "stream",
     "text": [
      "[('A', 'A'), ('A', 'B'), ('A', 'C'), ('B', 'B'), ('B', 'C'), ('C', 'C')]\n",
      "[('A', 'B'), ('A', 'C'), ('B', 'C')]\n"
     ]
    }
   ],
   "source": [
    "# 리스트에서 중복을 포함하여 2개를 뽑아 순서에 상관없이 나열하는 모든 경우를 출력\n",
    "from itertools import combinations_with_replacement\n",
    "\n",
    "data = ['A', 'B', 'C']\n",
    "result = list(combinations_with_replacement(data, 2))\n",
    "print(result)\n",
    "\n",
    "# combinations와 비교\n",
    "# 자신을 중복해서 뽑는 경우의 수가 제외되었다.\n",
    "result = list(combinations(data, 2))\n",
    "print(result)"
   ],
   "metadata": {
    "collapsed": false
   }
  },
  {
   "cell_type": "markdown",
   "source": [
    "## 3. heapq\n",
    "\n",
    "* 파이썬에서 heap 기능을 제공하기 위한 라이브러리\n",
    "* 다익스트라 최단 경로 알고리즘을 포함한 다양한 알고리즘에서 우선순위 큐 기능을 구현하고자 할 때 사용\n",
    "* PriorityQueue 라이브러리를 사용할 수도 있지만, 동작 속도를 고려해서 보통 heapq를 많이 사용\n",
    "* 파이썬의 힙은 최소힙으로 구성되어 있어 단순히 원소를 힙에 전부 넣었다가 빼는 것만으로도 O(NlogN)에 오름차순으로 정렬이 됨\n",
    "\n",
    "<br/>\n",
    "\n",
    "* 힙에 원소를 삽입할 때 : heapq.heappush()\n",
    "* 힙에서 원소를 꺼낼 때 : heapq.heappop()"
   ],
   "metadata": {
    "collapsed": false
   }
  },
  {
   "cell_type": "code",
   "execution_count": 10,
   "outputs": [
    {
     "name": "stdout",
     "output_type": "stream",
     "text": [
      "[0, 1, 2, 3, 4, 5, 6, 7, 8, 9]\n"
     ]
    }
   ],
   "source": [
    "# heap sort(힙 정렬)을 heapq로 구현하는 예제\n",
    "\n",
    "import heapq\n",
    "\n",
    "def heapsort(iterable):\n",
    "    h = []\n",
    "    result = []\n",
    "    # 모든 원소를 차례대로 힙에 삽입\n",
    "    for value in iterable:\n",
    "        heapq.heappush(h, value)\n",
    "\n",
    "    # 힙에 삽입된 모든 원소를 차례대로 꺼내어 담기\n",
    "    for _ in range(len(h)):\n",
    "        result.append(heapq.heappop(h))\n",
    "    return result\n",
    "\n",
    "result = heapsort([1, 3, 5, 7, 9, 2, 4, 6, 8, 0])\n",
    "print(result)"
   ],
   "metadata": {
    "collapsed": false
   }
  },
  {
   "cell_type": "markdown",
   "source": [
    "* 파이썬에서는 최대 힙을 제공하지 않음\n",
    "* heapq 라이브러리를 이용해서 최대 힙을 구현해야 할 때는 원소의 부호를 변경하는 방식을 사용함\n",
    "* 힙에 원소를 삽입 전에 부호를 반대로 바꾸었다가, 힙에서 원소를 꺼낸 뒤 다시 원소의 부호를 바꿈"
   ],
   "metadata": {
    "collapsed": false
   }
  },
  {
   "cell_type": "code",
   "execution_count": 11,
   "outputs": [
    {
     "name": "stdout",
     "output_type": "stream",
     "text": [
      "[9, 8, 7, 6, 5, 4, 3, 2, 1, 0]\n"
     ]
    }
   ],
   "source": [
    "# 위의 방식으로 최대 힙을 구현하여 내림차순 정렬을 구현\n",
    "\n",
    "import heapq\n",
    "\n",
    "def heapsort(iterable):\n",
    "    h = []\n",
    "    result = []\n",
    "    # 모든 원소를 차례로 힙에 삽입\n",
    "    for value in iterable:\n",
    "        heapq.heappush(h, -value)\n",
    "    # 힙에 삽입된 모든 원소를 차례대로 꺼내어 담기\n",
    "    for _ in range(len(h)):\n",
    "        result.append(-heapq.heappop(h))\n",
    "    return result\n",
    "\n",
    "result = heapsort([1, 3, 5, 7, 9, 2, 4, 6, 8, 0])\n",
    "print(result)"
   ],
   "metadata": {
    "collapsed": false
   }
  },
  {
   "cell_type": "markdown",
   "source": [
    "## 4. bisect"
   ],
   "metadata": {
    "collapsed": false
   }
  },
  {
   "cell_type": "markdown",
   "source": [
    "* 이진탐색 구현을 도와주는 라이브러리\n",
    "* 정렬된 배열에서 특정한 원소를 찾아야 할 때 매우 효과적으로 사용\n",
    "* `bisect_left()`, `bisect_right` -> 시간 복잡도 O(logN)\n",
    "\n",
    "**bisect_left(a, x)** : 정렬된 순서를 유지하면서 리스트 a에 데이터 x를 삽입할 가장 왼쪽 인덱스를 찾는 메서드\n",
    "\n",
    "**bisect_right(a, x)** : 정렬된 순서를 유지하도록 리스트 a에 데이터 x를 삽입할 가장 오른쪽 인덱스를 찾는 메서드"
   ],
   "metadata": {
    "collapsed": false
   }
  },
  {
   "cell_type": "code",
   "execution_count": 12,
   "outputs": [
    {
     "name": "stdout",
     "output_type": "stream",
     "text": [
      "2\n",
      "4\n"
     ]
    }
   ],
   "source": [
    "\"\"\"\n",
    "[1, 2, 4, 4, 8] 로 정렬된 리스트가 있을 때 새롭게 데이터 4를 삽입하려는 상황\n",
    "이 때, bisect_left와 bisect_right가 반환하는 인덱스값을 확인\n",
    "\"\"\"\n",
    "\n",
    "from bisect import bisect_left, bisect_right\n",
    "\n",
    "a = [1, 2, 4, 4, 8]\n",
    "x = 4\n",
    "\n",
    "print(bisect_left(a, x))\n",
    "print(bisect_right(a, x))"
   ],
   "metadata": {
    "collapsed": false
   }
  },
  {
   "cell_type": "markdown",
   "source": [
    "* bisect_left()와 bisect_right()는 정렬된 리스트에서 값이 특정 범위에 속하는 원소의 개수를 구할 때 효과적으로 사용할 수 있음\n",
    "* O(logN)의 시간 복잡도를 가지면서 빠르게 계산 가능"
   ],
   "metadata": {
    "collapsed": false
   }
  },
  {
   "cell_type": "code",
   "execution_count": 13,
   "outputs": [
    {
     "name": "stdout",
     "output_type": "stream",
     "text": [
      "2\n",
      "6\n"
     ]
    }
   ],
   "source": [
    "\"\"\"\n",
    "count_by_range(a, left_value, right_value) 함수는 정렬된 리스트 a에서\n",
    "left_value이상 right_value 이하 범위에 해당하는 데이터의 개수를 반환함\n",
    "\"\"\"\n",
    "\n",
    "from bisect import bisect_left, bisect_right\n",
    "\n",
    "def count_by_range(a, left_value, right_value):\n",
    "    left_index = bisect_left(a, left_value)\n",
    "    right_index = bisect_right(a, right_value)\n",
    "    return right_index - left_index\n",
    "\n",
    "a = [1, 2, 3, 3, 3, 3, 4, 4, 8, 9]\n",
    "\n",
    "# 값이 4인 데이터의 개수 출력\n",
    "print(count_by_range(a, 4, 4))\n",
    "\n",
    "# 값이 [-1, 3] 범위에 있는 데이터의 개수 출력\n",
    "print(count_by_range(a, -1, 3))"
   ],
   "metadata": {
    "collapsed": false
   }
  },
  {
   "cell_type": "markdown",
   "source": [
    "## 5. collections"
   ],
   "metadata": {
    "collapsed": false
   }
  },
  {
   "cell_type": "markdown",
   "source": [
    "* collections 라이브러리의 기능 중에서 코딩 테스트에서 유용하게 사용하는 클래스는 deque와 Counter\n",
    "* 파이썬에서는 deque를 사용해서 큐를 구현\n",
    "* 별도의 Queue 라이브러리가 있지만 일반적인 큐 자료구조를 구현하는 것이 아니기 때문에 deque을 이용해 큐를 구현해야 함"
   ],
   "metadata": {
    "collapsed": false
   }
  },
  {
   "cell_type": "markdown",
   "source": [
    "### 5.1. deque"
   ],
   "metadata": {
    "collapsed": false
   }
  },
  {
   "cell_type": "markdown",
   "source": [
    "|                 | 리스트  | deque |\n",
    "|-----------------|------|-------|\n",
    "| 가장 앞쪽에 원소를 추가   | O(N) | O(1)  |\n",
    "| 가장 뒤쪽에 원소 추가    | O(1) | O(1)  |\n",
    "| 가장 앞쪽에 있는 원소 제거 | O(N) | O(1)  |\n",
    "| 가장 뒤쪽에 있는 원소 제거 | O(1) | O(1)  |"
   ],
   "metadata": {
    "collapsed": false
   }
  },
  {
   "cell_type": "markdown",
   "source": [
    "* 리스트 자료형과 달리 인덱싱, 슬라이싱 등의 기능은 사용할 수 없음\n",
    "* 나열된 데이터의 시작 부분이나 끝 부분에 데이터를 삽입하거나 삭제하고자할 때 스택 혹은 큐의 대용으로 사용할 수 있음\n",
    "\n",
    "**popleft()** : 첫 번째 원소를 제거할 때\n",
    "**pop()** : 마지막 원소를 제거할 때\n",
    "**appendleft(x)** : 첫 번째 인덱스에 원소 x를 삽입할 때\n",
    "**append(x)** : 마지막 인덱스에 원소 x를 삽입할 때"
   ],
   "metadata": {
    "collapsed": false
   }
  },
  {
   "cell_type": "markdown",
   "source": [
    "deque를 큐 자료구조로 이용할 때는 원소 삽입 시 append(), 원소 삭제 시 popleft()를 사용한다."
   ],
   "metadata": {
    "collapsed": false
   }
  },
  {
   "cell_type": "code",
   "execution_count": 14,
   "outputs": [
    {
     "name": "stdout",
     "output_type": "stream",
     "text": [
      "deque([1, 2, 3, 4, 5])\n",
      "[1, 2, 3, 4, 5]\n"
     ]
    }
   ],
   "source": [
    "# 리스트 가장 앞쪽과 뒤쪽에 원소를 삽입\n",
    "from collections import deque\n",
    "\n",
    "data = deque([2, 3, 4])\n",
    "data.appendleft(1)\n",
    "data.append(5)\n",
    "\n",
    "print(data)\n",
    "print(list(data))"
   ],
   "metadata": {
    "collapsed": false
   }
  },
  {
   "cell_type": "markdown",
   "source": [
    "### 5.2. Counter"
   ],
   "metadata": {
    "collapsed": false
   }
  },
  {
   "cell_type": "markdown",
   "source": [
    "* 등장 횟수를 세는 기능을 제공\n",
    "* list와 같은 iterable 객체가 주어졌을 때, 해당 객체 내부의 원소가 몇 번씩 등장했는지 알려줌\n",
    "* 원소별 등장 횟수를 세는 기능이 필요할 때 활용 가능"
   ],
   "metadata": {
    "collapsed": false
   }
  },
  {
   "cell_type": "code",
   "execution_count": 15,
   "outputs": [
    {
     "name": "stdout",
     "output_type": "stream",
     "text": [
      "2\n",
      "1\n",
      "3\n",
      "{'red': 2, 'blue': 3, 'green': 1}\n"
     ]
    }
   ],
   "source": [
    "from collections import Counter\n",
    "\n",
    "counter = Counter(['red', 'blue', 'red', 'green', 'blue', 'blue'])\n",
    "\n",
    "print(counter['red'])\n",
    "print(counter['green'])\n",
    "print(counter['blue'])\n",
    "print(dict(counter)) # 딕셔너리형으로 변환"
   ],
   "metadata": {
    "collapsed": false
   }
  },
  {
   "cell_type": "markdown",
   "source": [
    "## 6. math"
   ],
   "metadata": {
    "collapsed": false
   }
  },
  {
   "cell_type": "markdown",
   "source": [
    "* 자주 사용되는 수학적인 기능을 포함하고 있음\n",
    "* 팩토리얼, 제곱근, 최대공약수(GCD) 등을 계산해주는 기능을 포함"
   ],
   "metadata": {
    "collapsed": false
   }
  },
  {
   "cell_type": "code",
   "execution_count": 16,
   "outputs": [
    {
     "name": "stdout",
     "output_type": "stream",
     "text": [
      "120\n"
     ]
    }
   ],
   "source": [
    "# factorial(x) 함수는 x! 값을 반환\n",
    "import math\n",
    "\n",
    "print(math.factorial(5))"
   ],
   "metadata": {
    "collapsed": false
   }
  },
  {
   "cell_type": "code",
   "execution_count": 17,
   "outputs": [
    {
     "name": "stdout",
     "output_type": "stream",
     "text": [
      "7.0\n",
      "2.6457513110645907\n",
      "2.6457513110645907\n"
     ]
    }
   ],
   "source": [
    "# sqrt(x) 함수는 x의 제곱근을 반환\n",
    "import math\n",
    "\n",
    "x = math.sqrt(49)\n",
    "print(x)\n",
    "print(math.sqrt(x))\n",
    "print(math.sqrt(7))"
   ],
   "metadata": {
    "collapsed": false
   }
  },
  {
   "cell_type": "code",
   "execution_count": 18,
   "outputs": [
    {
     "name": "stdout",
     "output_type": "stream",
     "text": [
      "7\n"
     ]
    }
   ],
   "source": [
    "# gcd(a, b) 함수를 통해서 a와 b의 최대공약수를 반환받을 수 있음\n",
    "import math\n",
    "\n",
    "print(math.gcd(21, 14))"
   ],
   "metadata": {
    "collapsed": false
   }
  },
  {
   "cell_type": "code",
   "execution_count": 19,
   "outputs": [
    {
     "name": "stdout",
     "output_type": "stream",
     "text": [
      "3.141592653589793\n",
      "2.718281828459045\n"
     ]
    }
   ],
   "source": [
    "# math 라이브러리는 pi나 자연상수 e를 제공할 수 있음\n",
    "import math\n",
    "\n",
    "print(math.pi)\n",
    "print(math.e)"
   ],
   "metadata": {
    "collapsed": false
   }
  },
  {
   "cell_type": "code",
   "execution_count": 19,
   "outputs": [],
   "source": [],
   "metadata": {
    "collapsed": false
   }
  }
 ],
 "metadata": {
  "kernelspec": {
   "display_name": "Python 3",
   "language": "python",
   "name": "python3"
  },
  "language_info": {
   "codemirror_mode": {
    "name": "ipython",
    "version": 2
   },
   "file_extension": ".py",
   "mimetype": "text/x-python",
   "name": "python",
   "nbconvert_exporter": "python",
   "pygments_lexer": "ipython2",
   "version": "2.7.6"
  }
 },
 "nbformat": 4,
 "nbformat_minor": 0
}
