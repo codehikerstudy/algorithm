{
 "cells": [
  {
   "cell_type": "markdown",
   "metadata": {
    "pycharm": {
     "name": "#%% md\n"
    }
   },
   "source": [
    "# 자료형"
   ]
  },
  {
   "cell_type": "markdown",
   "metadata": {},
   "source": [
    "## 1. 수 자료형"
   ]
  },
  {
   "cell_type": "code",
   "execution_count": 1,
   "metadata": {
    "pycharm": {
     "name": "#%%\n"
    }
   },
   "outputs": [
    {
     "name": "stdout",
     "output_type": "stream",
     "text": [
      "5.0\n",
      "-0.7\n"
     ]
    }
   ],
   "source": [
    "# 소수부가 0일 때 0을 생략\n",
    "a = 5.\n",
    "print(a)\n",
    "\n",
    "# 정수부가 0일 0을 생략\n",
    "a = -.7\n",
    "print(a)"
   ]
  },
  {
   "cell_type": "markdown",
   "metadata": {
    "pycharm": {
     "name": "#%% md\n"
    }
   },
   "source": [
    "* 실수형 데이터를 표현하는 방식으로 e나 E를 이용한 지수 표현 방식을 사용할 수 있다.\n",
    "* e 다음에 오는 수는 10의 지수부를 의미 (1e9은 10의 9제곱을 의미)\n",
    "\n",
    "* 최단 경로 문제에서 도달할 수 없는 노드에 대하여 최단 거리를 무한(INF)으로 설정함.\n",
    "* 최단 경로로 가능한 최댓값이 10억 미만이라면 무한을 표현할 때 10억을 이용할 수 있는데 이때 1e9으로 표현."
   ]
  },
  {
   "cell_type": "code",
   "execution_count": 2,
   "metadata": {
    "pycharm": {
     "name": "#%%\n"
    }
   },
   "outputs": [
    {
     "name": "stdout",
     "output_type": "stream",
     "text": [
      "1000000000.0\n",
      "752.5\n",
      "3.954\n"
     ]
    }
   ],
   "source": [
    "# 10억\n",
    "print(1e9)\n",
    "\n",
    "# 752.5\n",
    "print(75.25e1)\n",
    "\n",
    "# 3.954\n",
    "print(3954e-3)"
   ]
  },
  {
   "cell_type": "code",
   "execution_count": 3,
   "metadata": {
    "pycharm": {
     "name": "#%%\n"
    }
   },
   "outputs": [
    {
     "name": "stdout",
     "output_type": "stream",
     "text": [
      "0.8999999999999999\n",
      "False\n"
     ]
    }
   ],
   "source": [
    "# 2진수 체계인 컴퓨터 시스템에서는 10진수 체계와 달리 실수 정보를 표현하는 정확도에 한계를 가짐\n",
    "a = 0.3 + 0.6\n",
    "print(a)\n",
    "\n",
    "if a == 0.9:\n",
    "    print(True)\n",
    "else:\n",
    "    print(False)"
   ]
  },
  {
   "cell_type": "markdown",
   "metadata": {
    "pycharm": {
     "name": "#%% md\n"
    }
   },
   "source": [
    "소수점 값을 비교하는 작업이 필요한 문제라면 실수 값을 비교하지 못해 원하는 결과를 얻지 못할 수 있다. 이 때는 **round()** 함수를 사용한다.\n",
    "\n",
    "* round()에는 인자 2개를 넣는다.\n",
    "* 첫 번째 인자는 실수형 데이터이고, 두 번째 인자는 '반올림하고자 하는 위치 - 1'이다.\n",
    "* 123.456을 소수점 셋째 자리에서 반올림하기 위해서는 `round(123.456, 2)`"
   ]
  },
  {
   "cell_type": "code",
   "execution_count": 4,
   "metadata": {
    "pycharm": {
     "name": "#%%\n"
    }
   },
   "outputs": [
    {
     "name": "stdout",
     "output_type": "stream",
     "text": [
      "0.9\n",
      "True\n"
     ]
    }
   ],
   "source": [
    "a = 0.3 + 0.6\n",
    "print(round(a, 4))\n",
    "\n",
    "if round(a, 4) == 0.9:\n",
    "    print(True)\n",
    "else:\n",
    "    print(False)"
   ]
  },
  {
   "cell_type": "markdown",
   "metadata": {
    "pycharm": {
     "name": "#%% md\n"
    }
   },
   "source": [
    "### 1.1. 수 자료형 연산\n",
    "\n",
    "* 나머지 연산자( `%` ) : 특정 변수의 홀짝 확인 용도로 많이 사용\n",
    "* 몫 연산자 ( `//` ) : 나눈 결과에서 몫만 추출"
   ]
  },
  {
   "cell_type": "markdown",
   "metadata": {
    "pycharm": {
     "name": "#%% md\n"
    }
   },
   "source": [
    "## 2. 리스트 자료형"
   ]
  },
  {
   "cell_type": "code",
   "execution_count": 5,
   "metadata": {
    "pycharm": {
     "name": "#%%\n"
    }
   },
   "outputs": [
    {
     "name": "stdout",
     "output_type": "stream",
     "text": [
      "[0, 0, 0, 0, 0, 0, 0, 0, 0, 0]\n"
     ]
    }
   ],
   "source": [
    "# 크기가 N이고 모든 값이 0인 1차원 리스트 초기화\n",
    "n = 10\n",
    "a = [0] * n\n",
    "print(a)"
   ]
  },
  {
   "cell_type": "code",
   "execution_count": 6,
   "metadata": {
    "pycharm": {
     "name": "#%%\n"
    }
   },
   "outputs": [
    {
     "name": "stdout",
     "output_type": "stream",
     "text": [
      "[2, 3, 4]\n"
     ]
    }
   ],
   "source": [
    "# 두 번째 원소부터 네 번째 원소까지\n",
    "a = [1, 2, 3, 4, 5, 6, 7, 8, 9]\n",
    "print(a[1:4])"
   ]
  },
  {
   "cell_type": "markdown",
   "metadata": {
    "pycharm": {
     "name": "#%% md\n"
    }
   },
   "source": [
    "### 리스트 컴프리헨션\n",
    "\n",
    "* 리스트를 초기화하는 방법 중 하나\n",
    "* 대괄호 안에 조건문과 반복문을 넣는 방식으로 리스트를 초기화"
   ]
  },
  {
   "cell_type": "code",
   "execution_count": 7,
   "metadata": {
    "pycharm": {
     "name": "#%%\n"
    }
   },
   "outputs": [
    {
     "name": "stdout",
     "output_type": "stream",
     "text": [
      "[1, 3, 5, 7, 9, 11, 13, 15, 17, 19]\n",
      "[1, 4, 9, 16, 25, 36, 49, 64, 81]\n",
      "[[0, 0, 0, 0], [0, 0, 0, 0], [0, 0, 0, 0]]\n"
     ]
    }
   ],
   "source": [
    "# 0부터 19까지의 수 중에서 홀수만 포함하는 리스트\n",
    "array = [i for i in range(20) if i % 2 == 1]\n",
    "print(array)\n",
    "\n",
    "# 1부터 9까지의 수의 제곱 값을 포함하는 리스트\n",
    "array = [i**2 for i in range(1, 10)]\n",
    "print(array)\n",
    "\n",
    "# 2차원 리스트를 초기화할 때 매우 효과적으로 사용 가능\n",
    "# N * M 크기의 2차원 리스트 초기화\n",
    "n = 3\n",
    "m = 4\n",
    "array = [[0] * m for _ in range(n)]\n",
    "print(array)"
   ]
  },
  {
   "cell_type": "markdown",
   "metadata": {
    "pycharm": {
     "name": "#%% md\n"
    }
   },
   "source": [
    "특정 크기의 2차원 리스트를 초기화할 때는 반드시 리스트 컴프리헨션을 사용해야 한다. 그렇지 않은 경우 의도와는 다른 결과가 출력된다."
   ]
  },
  {
   "cell_type": "code",
   "execution_count": 8,
   "metadata": {
    "pycharm": {
     "name": "#%%\n"
    }
   },
   "outputs": [
    {
     "name": "stdout",
     "output_type": "stream",
     "text": [
      "[[0, 0, 0, 0], [0, 0, 0, 0], [0, 0, 0, 0]]\n",
      "[[5, 0, 0, 0], [0, 0, 0, 0], [0, 0, 0, 0]]\n"
     ]
    }
   ],
   "source": [
    "# 올바른 방식의 N * M 2차원 리스트 초기화\n",
    "n = 3\n",
    "m = 4\n",
    "array = [[0] * m for _ in range(n)]\n",
    "print(array)\n",
    "array[0][0] = 5\n",
    "print(array)"
   ]
  },
  {
   "cell_type": "code",
   "execution_count": 9,
   "metadata": {
    "pycharm": {
     "name": "#%%\n"
    }
   },
   "outputs": [
    {
     "name": "stdout",
     "output_type": "stream",
     "text": [
      "[[0, 0, 0, 0], [0, 0, 0, 0], [0, 0, 0, 0]]\n",
      "[[5, 0, 0, 0], [5, 0, 0, 0], [5, 0, 0, 0]]\n"
     ]
    }
   ],
   "source": [
    "# 잘못된 방식의 N * M 2차원 리스트 초기화\n",
    "n = 3\n",
    "m = 4\n",
    "array = [[0] * m] * n\n",
    "print(array)\n",
    "array[0][0] = 5\n",
    "print(array)"
   ]
  },
  {
   "cell_type": "markdown",
   "metadata": {
    "pycharm": {
     "name": "#%% md\n"
    }
   },
   "source": [
    "내부적으로 포함된 3개의 리스트가 모두 동일한 객체에 대한 3개의 레퍼런스로 인식되기 때문에 발생."
   ]
  },
  {
   "cell_type": "markdown",
   "metadata": {
    "pycharm": {
     "name": "#%% md\n"
    }
   },
   "source": [
    "### 리스트 관련 기타 메서드\n",
    "\n",
    "| **메서드명**      | **사용법**                        | **설명**                                       | **시간 복잡도** |\n",
    "|:--------------|:-------------------------------|:---------------------------------------------|:-----------|\n",
    "| **append()**  | .append()                      | 리스트에 원소를 하나 삽입                               | O(1)       |\n",
    "| **sort()**    | .sort() 또는 .sort(reverse=True) | 오름차순 또는 내림차순으로 정렬                            | O(NlogN)   |\n",
    "| **reverse()** | .reverse()                     | 리스트의 원소의 순서를 모두 뒤집는다.                        | O(N)       |\n",
    "| **insert()**  | .insert(삽입할 위치의 인덱스, 값)        | 특정 인덱스 위치에 원소를 삽입                            | O(N)       |\n",
    "| **count()**   | .count(특정값)                    | 리스트에서 '특정값'을 가지는 데이터의 개수를 셈                  | O(N)       |\n",
    "| **remove()**  | .remove(특정값)                   | 특정한 값을 가지는 원소를 제거하는데, 값을 가진 원소가 여러 개면 하나만 제거 | O(N)       |\n"
   ]
  },
  {
   "cell_type": "markdown",
   "metadata": {
    "pycharm": {
     "name": "#%% md\n"
    }
   },
   "source": [
    "### 파이썬에서 특정한 값의 원소를 모두 제거\n",
    "\n",
    "* 다른 언어에서는 `remove_all()`과 같은 함수로 리스트에서 특정한 값을 가지는 모든 원소를 모두 삭제하는 것이 가능\n",
    "* 파이썬에서는 해당 기능을 제공해주는 함수가 따로 없기 때문에 만들어 사용함.ㄹ"
   ]
  },
  {
   "cell_type": "code",
   "execution_count": 11,
   "outputs": [
    {
     "name": "stdout",
     "output_type": "stream",
     "text": [
      "[1, 2, 4]\n"
     ]
    }
   ],
   "source": [
    "# 리스트 a에서 remove_set에 담긴 값만 제외\n",
    "a = [1, 2, 3, 4, 5, 5, 5]\n",
    "remove_set = {3, 5}\n",
    "\n",
    "result = [i for i in a if i not in remove_set]\n",
    "print(result)"
   ],
   "metadata": {
    "collapsed": false,
    "pycharm": {
     "name": "#%%\n"
    }
   }
  },
  {
   "cell_type": "markdown",
   "source": [
    "## 3. 튜플 자료형\n",
    "\n",
    "파이썬에서 튜플과 리스트의 차이\n",
    "\n",
    "* 튜플은 한 번 선언된 값을 변경할 수 없다.\n",
    "* 튜플은 소괄호를 사용해서 표현한다."
   ],
   "metadata": {
    "collapsed": false,
    "pycharm": {
     "name": "#%% md\n"
    }
   }
  },
  {
   "cell_type": "markdown",
   "source": [
    "* 튜플 자료형은 그래프 알고리즘에서 자주 사용됨\n",
    "* 다익스트라 최단 경로 알고리즘과 같이 최단 경로를 찾아주는 알고리즘의 내부에는 우선순위 큐를 사용함.\n",
    "* 우선순위 큐에 들어간 값은 변경되지 않기 때문에, 들어가는 데이터를 튜플로 구성.\n",
    "\n",
    "<p/>\n",
    "\n",
    "* 튜플은 리스트에 비해서 공간 효율적\n",
    "* 각 원소의 성질이 서로 다를 때 주로 사용함.\n",
    "* 다익스트라 최단 경로 알고리즘에서 '비용'과 '노드 번호'라는 서로 다른 성질의 데이터를 (비용, 노드 번호)의 형태로 함께 튜플로 묶어서 관리하는 것이 관례!"
   ],
   "metadata": {
    "collapsed": false,
    "pycharm": {
     "name": "#%% md\n"
    }
   }
  },
  {
   "cell_type": "markdown",
   "source": [
    "## 4. 사전 자료형\n",
    "\n",
    "* Key와 Value의 쌍을 데이터로 가지는 자료형\n",
    "* 변경 불가능한 데이터를 키로 사용이 가능하다. -> 변경 불가능한 자료형에 해당하는 수 자료형, 문자열 자료형, 튜플 자료형이 키로 사용 가능\n",
    "* 파이썬의 사전 자료형은 내부적으로 해시 테이블을 이용하기 때문에 O(1)의 시간에 처리 가능 -> 리스트보다 데이터 처리를 훨씬 빠르게 진행 가능"
   ],
   "metadata": {
    "collapsed": false,
    "pycharm": {
     "name": "#%% md\n"
    }
   }
  },
  {
   "cell_type": "code",
   "execution_count": 14,
   "outputs": [
    {
     "name": "stdout",
     "output_type": "stream",
     "text": [
      "{1: 'Apple', 2: 'Banna', 3: 'Cinnamon'}\n"
     ]
    }
   ],
   "source": [
    "data = dict()\n",
    "data[1] = 'Apple'\n",
    "data[2] = 'Banna'\n",
    "data[3] = 'Cinnamon'\n",
    "print(data)"
   ],
   "metadata": {
    "collapsed": false,
    "pycharm": {
     "name": "#%%\n"
    }
   }
  },
  {
   "cell_type": "code",
   "execution_count": 15,
   "outputs": [
    {
     "name": "stdout",
     "output_type": "stream",
     "text": [
      "true\n"
     ]
    }
   ],
   "source": [
    "# 사전 자료형에 특정한 원소가 있는지 검사 -> in 문법 사용\n",
    "data = dict()\n",
    "data[1] = 'Apple'\n",
    "data[2] = 'Banna'\n",
    "data[3] = 'Cinnamon'\n",
    "\n",
    "if 1 in data:\n",
    "    print(\"true\")"
   ],
   "metadata": {
    "collapsed": false,
    "pycharm": {
     "name": "#%%\n"
    }
   }
  },
  {
   "cell_type": "code",
   "execution_count": 18,
   "outputs": [
    {
     "name": "stdout",
     "output_type": "stream",
     "text": [
      "dict_keys([1, 2, 3])\n",
      "dict_values(['Apple', 'Banna', 'Cinnamon'])\n"
     ]
    }
   ],
   "source": [
    "# key 데이터만 담은 리스트\n",
    "key_lists = data.keys()\n",
    "# value 데이터만 담은 리스트\n",
    "value_lists = data.values()\n",
    "\n",
    "print(key_lists)\n",
    "print(value_lists)"
   ],
   "metadata": {
    "collapsed": false,
    "pycharm": {
     "name": "#%%\n"
    }
   }
  },
  {
   "cell_type": "markdown",
   "source": [
    "## 5. 집합 자료형\n",
    "\n",
    "* 리스트 혹은 문자열로 만들 수 있음\n",
    "* **중복 허용하지 않음, 순서가 없음**\n",
    "* 사전 자료형과 집합 자료형은 순서가 존재하지 않기 때문에 인덱싱을 통해서 특정한 값을 추출하는 것이 불가능\n",
    "* 사전 자료형과 달리 키가 없고 값만 존재하며, 특정 원소가 존재하는지 검사하는데 O(1)의 시간 복잡도를 가진다.\n",
    "\n",
    "집합 자료형은 **'특정한 데이터가 이미 등장한 적이 있는지 여부'** 를 체크할 때 효과적"
   ],
   "metadata": {
    "collapsed": false,
    "pycharm": {
     "name": "#%% md\n"
    }
   }
  },
  {
   "cell_type": "code",
   "execution_count": 19,
   "outputs": [
    {
     "name": "stdout",
     "output_type": "stream",
     "text": [
      "{1, 2, 3, 4, 5}\n",
      "{1, 2, 3, 4, 5}\n"
     ]
    }
   ],
   "source": [
    "# 집합 자료형 초기화 방법1\n",
    "data = set([1, 1, 2, 3, 4, 4, 5])\n",
    "print(data)\n",
    "\n",
    "# 집합 자료형 초기화 방법2\n",
    "data = {1, 1, 2, 3, 4, 4, 5}\n",
    "print(data)"
   ],
   "metadata": {
    "collapsed": false,
    "pycharm": {
     "name": "#%%\n"
    }
   }
  },
  {
   "cell_type": "code",
   "execution_count": 20,
   "outputs": [
    {
     "name": "stdout",
     "output_type": "stream",
     "text": [
      "{1, 2, 3, 4, 5, 6, 7}\n",
      "{3, 4, 5}\n",
      "{1, 2}\n"
     ]
    }
   ],
   "source": [
    "# 집합 자료형의 연산\n",
    "d1 = {1, 2, 3, 4, 5}\n",
    "d2 = {3, 4, 5, 6, 7}\n",
    "\n",
    "print(d1 | d2) # 합집합\n",
    "print(d1 & d2) # 교집합\n",
    "print(d1 - d2) # 차집합"
   ],
   "metadata": {
    "collapsed": false,
    "pycharm": {
     "name": "#%%\n"
    }
   }
  },
  {
   "cell_type": "code",
   "execution_count": 23,
   "outputs": [
    {
     "name": "stdout",
     "output_type": "stream",
     "text": [
      "{1, 2, 3}\n",
      "{1, 2, 3, 4}\n",
      "{1, 2, 3, 4, 5, 6}\n",
      "{1, 2, 4, 5, 6}\n"
     ]
    }
   ],
   "source": [
    "# 집합 자료형 관련 메서드\n",
    "\n",
    "data = set([1, 2, 3])\n",
    "print(data)\n",
    "\n",
    "# 새로운 원소 하나 추가\n",
    "data.add(4)\n",
    "print(data)\n",
    "\n",
    "# 새로운 원소 여러 개 추가\n",
    "data.update([5, 6])\n",
    "print(data)\n",
    "\n",
    "# 특정한 값을 가지는 원소 삭제\n",
    "data.remove(3)\n",
    "print(data)"
   ],
   "metadata": {
    "collapsed": false,
    "pycharm": {
     "name": "#%%\n"
    }
   }
  },
  {
   "cell_type": "code",
   "execution_count": null,
   "outputs": [],
   "source": [],
   "metadata": {
    "collapsed": false,
    "pycharm": {
     "name": "#%%\n"
    }
   }
  }
 ],
 "metadata": {
  "kernelspec": {
   "display_name": "Python 3 (ipykernel)",
   "language": "python",
   "name": "python3"
  },
  "language_info": {
   "codemirror_mode": {
    "name": "ipython",
    "version": 3
   },
   "file_extension": ".py",
   "mimetype": "text/x-python",
   "name": "python",
   "nbconvert_exporter": "python",
   "pygments_lexer": "ipython3",
   "version": "3.10.4"
  }
 },
 "nbformat": 4,
 "nbformat_minor": 1
}