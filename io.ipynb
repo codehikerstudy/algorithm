{
 "cells": [
  {
   "cell_type": "markdown",
   "source": [
    "# 입출력"
   ],
   "metadata": {
    "collapsed": false
   }
  },
  {
   "cell_type": "markdown",
   "source": [
    "* 파이썬에서 데이터를 입력 받을 때는 input()을 이용 -> 한 줄의 문자열을 입력 받음\n",
    "* 입력 받은 데이터를 정수형 데이터로 처리하기 위해서는 문자열을 정수로 바꾸는 int() 함수를 사용"
   ],
   "metadata": {
    "collapsed": false
   }
  },
  {
   "cell_type": "code",
   "execution_count": 9,
   "outputs": [
    {
     "data": {
      "text/plain": "[65, 90, 75, 34, 99]"
     },
     "execution_count": 9,
     "metadata": {},
     "output_type": "execute_result"
    }
   ],
   "source": [
    "# 입력받은 문자열을 띄어쓰기로 구분하여 각각 정수형의 데이터로 저장\n",
    "list(map(int, input().split()))"
   ],
   "metadata": {
    "collapsed": false
   }
  },
  {
   "cell_type": "markdown",
   "source": [
    "`list(map(int, input().split()))`의 동작과정\n",
    "\n",
    "* input()으로 입력 받은 문자열을 split()을 이용해 공백으로 나눈 리스트로 바꿈\n",
    "* map()을 이용해서 해당 리스트의 모든 원소에 int() 함수를 적용\n",
    "* 위의 결과를 list()로 다시 바꿔 입력받은 문자열을 띄어쓰기로 구분하여 각각 숫자 자료형으로 저장"
   ],
   "metadata": {
    "collapsed": false
   }
  },
  {
   "cell_type": "markdown",
   "source": [
    "### 💡 입력을 위한 전형적인 소스코드"
   ],
   "metadata": {
    "collapsed": false
   }
  },
  {
   "cell_type": "code",
   "execution_count": 7,
   "outputs": [
    {
     "name": "stdout",
     "output_type": "stream",
     "text": [
      "[99, 90, 75, 65, 34]\n"
     ]
    }
   ],
   "source": [
    "# 데이터의 개수 입력 -> 구분자가 줄 바꿈일 때\n",
    "n = int(input())\n",
    "# 각 데이터를 공백으로 구분하여 입력\n",
    "data = list(map(int, input().split()))\n",
    "\n",
    "data.sort(reverse=True)\n",
    "print(data)"
   ],
   "metadata": {
    "collapsed": false
   }
  },
  {
   "cell_type": "markdown",
   "source": [
    "### 💡 공백을 기준으로 구분한 적은 수의 데이터 입력"
   ],
   "metadata": {
    "collapsed": false
   }
  },
  {
   "cell_type": "code",
   "execution_count": 13,
   "outputs": [
    {
     "name": "stdout",
     "output_type": "stream",
     "text": [
      "1 2 3\n"
     ]
    }
   ],
   "source": [
    "# n, m, k를 공백으로 구분하여 입력\n",
    "n, m, k = map(int, input().split())\n",
    "\n",
    "print(n, m, k)"
   ],
   "metadata": {
    "collapsed": false
   }
  },
  {
   "cell_type": "markdown",
   "source": [
    "### 💡 입력 시간을 최대한 줄여보자"
   ],
   "metadata": {
    "collapsed": false
   }
  },
  {
   "cell_type": "markdown",
   "source": [
    "* 정렬, 이진 탐색, 최단 경로 문제의 경우 매우 많은 수의 데이터가 연속적으로 입력\n",
    "* 1000만 개가 넘는 라인이 입력되는 경우, 입력을 받는 것만으로도 시간 초과를 받을 수 있음\n",
    "* 파이썬의 기본 input() 함수는 동작 속도가 느려서 시간 초과로 오답 판정을 받을 수 있음\n",
    "* 이 때, 파이썬의 sys 라이브러리에 정의된 **sys.stdin.readline()함수**를 사용\n",
    "\n",
    "<br/>\n",
    "\n",
    "sys 라이브러리는 input()함수와 같이 한 줄씩 입력 받기 위해 사용한다."
   ],
   "metadata": {
    "collapsed": false
   }
  },
  {
   "cell_type": "code",
   "execution_count": 16,
   "outputs": [
    {
     "data": {
      "text/plain": "''"
     },
     "execution_count": 16,
     "metadata": {},
     "output_type": "execute_result"
    }
   ],
   "source": [
    "import sys\n",
    "sys.stdin.readline().rstrip()"
   ],
   "metadata": {
    "collapsed": false
   }
  },
  {
   "cell_type": "code",
   "execution_count": null,
   "outputs": [],
   "source": [],
   "metadata": {
    "collapsed": false
   }
  }
 ],
 "metadata": {
  "kernelspec": {
   "display_name": "Python 3",
   "language": "python",
   "name": "python3"
  },
  "language_info": {
   "codemirror_mode": {
    "name": "ipython",
    "version": 2
   },
   "file_extension": ".py",
   "mimetype": "text/x-python",
   "name": "python",
   "nbconvert_exporter": "python",
   "pygments_lexer": "ipython2",
   "version": "2.7.6"
  }
 },
 "nbformat": 4,
 "nbformat_minor": 0
}
